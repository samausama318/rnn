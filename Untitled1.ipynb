{
  "nbformat": 4,
  "nbformat_minor": 0,
  "metadata": {
    "colab": {
      "provenance": [],
      "authorship_tag": "ABX9TyNeScjYgDOFSPOHIcl9oK+2",
      "include_colab_link": true
    },
    "kernelspec": {
      "name": "python3",
      "display_name": "Python 3"
    },
    "language_info": {
      "name": "python"
    }
  },
  "cells": [
    {
      "cell_type": "markdown",
      "metadata": {
        "id": "view-in-github",
        "colab_type": "text"
      },
      "source": [
        "<a href=\"https://colab.research.google.com/github/samausama318/rnn/blob/main/Untitled1.ipynb\" target=\"_parent\"><img src=\"https://colab.research.google.com/assets/colab-badge.svg\" alt=\"Open In Colab\"/></a>"
      ]
    },
    {
      "cell_type": "code",
      "execution_count": 1,
      "metadata": {
        "colab": {
          "base_uri": "https://localhost:8080/"
        },
        "id": "I9FBNvlreD9x",
        "outputId": "a3702d0f-307b-4c3d-9cb6-adeb59cf737a"
      },
      "outputs": [
        {
          "output_type": "stream",
          "name": "stdout",
          "text": [
            "\u001b[1m1/1\u001b[0m \u001b[32m━━━━━━━━━━━━━━━━━━━━\u001b[0m\u001b[37m\u001b[0m \u001b[1m0s\u001b[0m 165ms/step\n",
            "Predicted word: dogs\n"
          ]
        }
      ],
      "source": [
        "\n",
        "\n",
        "#  Import libraries\n",
        "import numpy as np\n",
        "import tensorflow as tf\n",
        "from tensorflow.keras.models import Sequential\n",
        "from tensorflow.keras.layers import Embedding, SimpleRNN, Dense\n",
        "\n",
        "#  Prepare the text\n",
        "sentence = [\"sama\", \"loves\", \"golden\", \"dogs\"]\n",
        "\n",
        "# Create dictionary for word-to-index and index-to-word\n",
        "word_to_index = {word: idx for idx, word in enumerate(sentence)}\n",
        "index_to_word = {idx: word for word, idx in word_to_index.items()}\n",
        "\n",
        "# Input: \"sama loves golden\" -> [0, 1, 2]\n",
        "X = np.array([[word_to_index[\"sama\"], word_to_index[\"loves\"], word_to_index[\"golden\"]]])\n",
        "\n",
        "# Target: \"dogs\" -> 3\n",
        "y = np.array([word_to_index[\"dogs\"]])\n",
        "\n",
        "#  Build the RNN model\n",
        "model = Sequential([\n",
        "    Embedding(input_dim=len(word_to_index), output_dim=8),\n",
        "    SimpleRNN(16),\n",
        "    Dense(len(word_to_index), activation='softmax')\n",
        "])\n",
        "\n",
        "model.compile(optimizer='adam', loss='sparse_categorical_crossentropy', metrics=['accuracy'])\n",
        "\n",
        "#  Train the model\n",
        "model.fit(X, y, epochs=500, verbose=0)\n",
        "\n",
        "#  Make a prediction\n",
        "prediction = model.predict(X)\n",
        "predicted_index = tf.argmax(prediction[0]).numpy()\n",
        "predicted_word = index_to_word[predicted_index]\n",
        "\n",
        "print(\"Predicted word:\", predicted_word)\n"
      ]
    },
    {
      "cell_type": "code",
      "source": [],
      "metadata": {
        "id": "FFmVYNMJkw8-"
      },
      "execution_count": null,
      "outputs": []
    }
  ]
}